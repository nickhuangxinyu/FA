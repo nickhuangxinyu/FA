{
 "cells": [
  {
   "cell_type": "code",
   "execution_count": 1,
   "metadata": {},
   "outputs": [],
   "source": [
    "import sys\n",
    "import os\n",
    "sys.path.append('/home/xhuang')\n",
    "from test_factor import *"
   ]
  },
  {
   "cell_type": "code",
   "execution_count": 2,
   "metadata": {},
   "outputs": [],
   "source": [
    "file_path='/home/xhuang/stockBT_mm/xy_logs/002182_20190220.csv'\n",
    "file_path1='/home/xhuang/stockBT_mm/xy_logs/002182_20190221.csv'\n",
    "file_path2='/home/xhuang/stockBT_mm/xy_logs/002182_20190222.csv'\n",
    "factor_list = ['static_count', 'recent_obsc', 'obsc', 'recent_obsc_sign']\n",
    "factor_list = ['static_count', 'obsc']"
   ]
  },
  {
   "cell_type": "code",
   "execution_count": 3,
   "metadata": {},
   "outputs": [
    {
     "name": "stdout",
     "output_type": "stream",
     "text": [
      "handling /home/xhuang/stockBT_mm/xy_logs/002182_20190220.csv\n",
      "date is  20190220\n",
      "ticker is  002182\n",
      "bid_hit_ratio is 0.0\n",
      "ask_hit_ratio is 0.0\n",
      "bid_profit_ratio is 0.06985466479137366\n",
      "bid_loss_ratio is 0.10150023441162681\n",
      "ask_profit_ratio is 0.08720112517580872\n",
      "ask_loss_ratio is 0.09751523675574308\n",
      "filter sec is  4.543789625167847\n",
      "test sec is  0.022694826126098633\n"
     ]
    },
    {
     "data": {
      "text/html": [
       "<div>\n",
       "<style scoped>\n",
       "    .dataframe tbody tr th:only-of-type {\n",
       "        vertical-align: middle;\n",
       "    }\n",
       "\n",
       "    .dataframe tbody tr th {\n",
       "        vertical-align: top;\n",
       "    }\n",
       "\n",
       "    .dataframe thead th {\n",
       "        text-align: right;\n",
       "    }\n",
       "</style>\n",
       "<table border=\"1\" class=\"dataframe\">\n",
       "  <thead>\n",
       "    <tr style=\"text-align: right;\">\n",
       "      <th></th>\n",
       "      <th>bid</th>\n",
       "      <th>ask</th>\n",
       "    </tr>\n",
       "  </thead>\n",
       "  <tbody>\n",
       "    <tr>\n",
       "      <th>static_count</th>\n",
       "      <td>[31, 13, 11]</td>\n",
       "      <td>[289, 24, 34]</td>\n",
       "    </tr>\n",
       "    <tr>\n",
       "      <th>obsc</th>\n",
       "      <td>[79, 10, 15]</td>\n",
       "      <td>[292, 24, 33]</td>\n",
       "    </tr>\n",
       "  </tbody>\n",
       "</table>\n",
       "</div>"
      ],
      "text/plain": [
       "                       bid            ask\n",
       "static_count  [31, 13, 11]  [289, 24, 34]\n",
       "obsc          [79, 10, 15]  [292, 24, 33]"
      ]
     },
     "execution_count": 3,
     "metadata": {},
     "output_type": "execute_result"
    }
   ],
   "source": [
    "test(file_path, factor_list)"
   ]
  },
  {
   "cell_type": "code",
   "execution_count": 4,
   "metadata": {
    "scrolled": true
   },
   "outputs": [
    {
     "name": "stdout",
     "output_type": "stream",
     "text": [
      "handling /home/xhuang/stockBT_mm/xy_logs/002182_20190221.csv\n",
      "date is  20190221\n",
      "ticker is  002182\n",
      "bid_hit_ratio is 0.0\n",
      "ask_hit_ratio is 0.0\n",
      "bid_profit_ratio is 0.05205728574676063\n",
      "bid_loss_ratio is 0.04273698567856331\n",
      "ask_profit_ratio is 0.019777222095930892\n",
      "ask_loss_ratio is 0.0766083200727438\n",
      "filter sec is  4.704119920730591\n",
      "test sec is  0.021813154220581055\n"
     ]
    },
    {
     "data": {
      "text/html": [
       "<div>\n",
       "<style scoped>\n",
       "    .dataframe tbody tr th:only-of-type {\n",
       "        vertical-align: middle;\n",
       "    }\n",
       "\n",
       "    .dataframe tbody tr th {\n",
       "        vertical-align: top;\n",
       "    }\n",
       "\n",
       "    .dataframe thead th {\n",
       "        text-align: right;\n",
       "    }\n",
       "</style>\n",
       "<table border=\"1\" class=\"dataframe\">\n",
       "  <thead>\n",
       "    <tr style=\"text-align: right;\">\n",
       "      <th></th>\n",
       "      <th>bid</th>\n",
       "      <th>ask</th>\n",
       "    </tr>\n",
       "  </thead>\n",
       "  <tbody>\n",
       "    <tr>\n",
       "      <th>static_count</th>\n",
       "      <td>[45, 4, 1]</td>\n",
       "      <td>[331, 4, 23]</td>\n",
       "    </tr>\n",
       "    <tr>\n",
       "      <th>obsc</th>\n",
       "      <td>[113, 7, 6]</td>\n",
       "      <td>[336, 3, 23]</td>\n",
       "    </tr>\n",
       "  </tbody>\n",
       "</table>\n",
       "</div>"
      ],
      "text/plain": [
       "                      bid           ask\n",
       "static_count   [45, 4, 1]  [331, 4, 23]\n",
       "obsc          [113, 7, 6]  [336, 3, 23]"
      ]
     },
     "execution_count": 4,
     "metadata": {},
     "output_type": "execute_result"
    }
   ],
   "source": [
    "test(file_path1, factor_list)"
   ]
  },
  {
   "cell_type": "code",
   "execution_count": 5,
   "metadata": {},
   "outputs": [
    {
     "ename": "NameError",
     "evalue": "name 'df' is not defined",
     "output_type": "error",
     "traceback": [
      "\u001b[0;31m---------------------------------------------------------------------------\u001b[0m",
      "\u001b[0;31mNameError\u001b[0m                                 Traceback (most recent call last)",
      "\u001b[0;32m<ipython-input-5-00cf07b74dcd>\u001b[0m in \u001b[0;36m<module>\u001b[0;34m\u001b[0m\n\u001b[0;32m----> 1\u001b[0;31m \u001b[0mdf\u001b[0m\u001b[0;34m\u001b[0m\u001b[0;34m\u001b[0m\u001b[0m\n\u001b[0m",
      "\u001b[0;31mNameError\u001b[0m: name 'df' is not defined"
     ]
    }
   ],
   "source": [
    "df"
   ]
  },
  {
   "cell_type": "code",
   "execution_count": null,
   "metadata": {},
   "outputs": [],
   "source": [
    "#testall('/home/xhuang/stockBT_mm/xy_logs', factor_list)"
   ]
  },
  {
   "cell_type": "code",
   "execution_count": null,
   "metadata": {},
   "outputs": [],
   "source": [
    "df = test(file_path2, factor_list)"
   ]
  },
  {
   "cell_type": "code",
   "execution_count": null,
   "metadata": {},
   "outputs": [],
   "source": [
    "df"
   ]
  },
  {
   "cell_type": "code",
   "execution_count": null,
   "metadata": {},
   "outputs": [],
   "source": [
    "plt.table([11,2,3])"
   ]
  },
  {
   "cell_type": "code",
   "execution_count": null,
   "metadata": {},
   "outputs": [],
   "source": [
    "plt.table(cellText=[[1],[2],[3]], rowLabels=[1,2,3], colLabels=[1],colWidths = [0.1], loc='center',cellLoc='center')\n",
    "plt.table(cellText=[[1],[2],[3]], rowLabels=[1,2,3], colLabels=[1],colWidths = [0.1], loc='center',cellLoc='center')"
   ]
  },
  {
   "cell_type": "code",
   "execution_count": null,
   "metadata": {},
   "outputs": [],
   "source": [
    "print(df)"
   ]
  },
  {
   "cell_type": "code",
   "execution_count": null,
   "metadata": {},
   "outputs": [],
   "source": []
  },
  {
   "cell_type": "code",
   "execution_count": null,
   "metadata": {},
   "outputs": [],
   "source": []
  }
 ],
 "metadata": {
  "kernelspec": {
   "display_name": "Python 3",
   "language": "python",
   "name": "python3"
  },
  "language_info": {
   "codemirror_mode": {
    "name": "ipython",
    "version": 3
   },
   "file_extension": ".py",
   "mimetype": "text/x-python",
   "name": "python",
   "nbconvert_exporter": "python",
   "pygments_lexer": "ipython3",
   "version": "3.6.8"
  }
 },
 "nbformat": 4,
 "nbformat_minor": 2
}
